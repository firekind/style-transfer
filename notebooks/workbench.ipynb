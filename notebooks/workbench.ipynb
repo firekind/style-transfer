{
 "cells": [
  {
   "cell_type": "code",
   "execution_count": 1,
   "metadata": {},
   "outputs": [],
   "source": [
    "import torch\n",
    "import torch.nn as nn\n",
    "import torch.functional as F\n",
    "import torchvision"
   ]
  },
  {
   "cell_type": "code",
   "execution_count": 2,
   "metadata": {},
   "outputs": [],
   "source": [
    "device = 'cuda:0' if torch.cuda.is_available() else 'cpu'\n",
    "vgg19 = torchvision.models.vgg19(pretrained=True).eval().to(device)"
   ]
  },
  {
   "cell_type": "code",
   "execution_count": 4,
   "metadata": {},
   "outputs": [
    {
     "output_type": "stream",
     "name": "stdout",
     "text": "0: Conv2d(3, 64, kernel_size=(3, 3), stride=(1, 1), padding=(1, 1))\n1: ReLU(inplace=True)\n2: Conv2d(64, 64, kernel_size=(3, 3), stride=(1, 1), padding=(1, 1))\n3: ReLU(inplace=True)\n4: MaxPool2d(kernel_size=2, stride=2, padding=0, dilation=1, ceil_mode=False)\n5: Conv2d(64, 128, kernel_size=(3, 3), stride=(1, 1), padding=(1, 1))\n6: ReLU(inplace=True)\n7: Conv2d(128, 128, kernel_size=(3, 3), stride=(1, 1), padding=(1, 1))\n8: ReLU(inplace=True)\n9: MaxPool2d(kernel_size=2, stride=2, padding=0, dilation=1, ceil_mode=False)\n10: Conv2d(128, 256, kernel_size=(3, 3), stride=(1, 1), padding=(1, 1))\n11: ReLU(inplace=True)\n12: Conv2d(256, 256, kernel_size=(3, 3), stride=(1, 1), padding=(1, 1))\n13: ReLU(inplace=True)\n14: Conv2d(256, 256, kernel_size=(3, 3), stride=(1, 1), padding=(1, 1))\n15: ReLU(inplace=True)\n16: Conv2d(256, 256, kernel_size=(3, 3), stride=(1, 1), padding=(1, 1))\n17: ReLU(inplace=True)\n18: MaxPool2d(kernel_size=2, stride=2, padding=0, dilation=1, ceil_mode=False)\n19: Conv2d(256, 512, kernel_size=(3, 3), stride=(1, 1), padding=(1, 1))\n20: ReLU(inplace=True)\n21: Conv2d(512, 512, kernel_size=(3, 3), stride=(1, 1), padding=(1, 1))\n22: ReLU(inplace=True)\n23: Conv2d(512, 512, kernel_size=(3, 3), stride=(1, 1), padding=(1, 1))\n24: ReLU(inplace=True)\n25: Conv2d(512, 512, kernel_size=(3, 3), stride=(1, 1), padding=(1, 1))\n26: ReLU(inplace=True)\n27: MaxPool2d(kernel_size=2, stride=2, padding=0, dilation=1, ceil_mode=False)\n28: Conv2d(512, 512, kernel_size=(3, 3), stride=(1, 1), padding=(1, 1))\n29: ReLU(inplace=True)\n30: Conv2d(512, 512, kernel_size=(3, 3), stride=(1, 1), padding=(1, 1))\n31: ReLU(inplace=True)\n32: Conv2d(512, 512, kernel_size=(3, 3), stride=(1, 1), padding=(1, 1))\n33: ReLU(inplace=True)\n34: Conv2d(512, 512, kernel_size=(3, 3), stride=(1, 1), padding=(1, 1))\n35: ReLU(inplace=True)\n36: MaxPool2d(kernel_size=2, stride=2, padding=0, dilation=1, ceil_mode=False)\n"
    }
   ],
   "source": [
    "for name, layer in vgg19.features.named_children():\n",
    "    print(f\"{name}: {layer}\")"
   ]
  },
  {
   "cell_type": "code",
   "execution_count": 7,
   "metadata": {},
   "outputs": [],
   "source": [
    "class StyleTransferer(nn.Module):\n",
    "    def __init__(self, feature_extractor):\n",
    "        super(StyleTransferer, self).__init__()\n",
    "\n",
    "        self.layers = nn.Sequential()\n",
    "        conv_layer_idx = 1\n",
    "        conv_count = 0\n",
    "\n",
    "        for name, layer in feature_extractor.named_children():\n",
    "            if isinstance(layer, nn.ReLU):\n",
    "                layer = nn.ReLU(inplace=False)\n",
    "            if isinstance(layer, nn.MaxPool2d):\n",
    "                conv_layer_idx += 1\n",
    "                conv_count = 0\n",
    "            if isinstance(layer, nn.Conv2d):\n",
    "                conv_count += 1\n",
    "                name = f\"conv_{conv_layer_idx}_{conv_count}\"\n",
    "\n",
    "            self.layers.add_module(name, layer)\n",
    "\n",
    "\n",
    "            "
   ]
  },
  {
   "cell_type": "code",
   "execution_count": 10,
   "metadata": {},
   "outputs": [
    {
     "output_type": "stream",
     "name": "stdout",
     "text": "conv_1_1: Conv2d(3, 64, kernel_size=(3, 3), stride=(1, 1), padding=(1, 1))\n1: ReLU()\nconv_1_2: Conv2d(64, 64, kernel_size=(3, 3), stride=(1, 1), padding=(1, 1))\n3: ReLU()\n4: MaxPool2d(kernel_size=2, stride=2, padding=0, dilation=1, ceil_mode=False)\nconv_2_1: Conv2d(64, 128, kernel_size=(3, 3), stride=(1, 1), padding=(1, 1))\n6: ReLU()\nconv_2_2: Conv2d(128, 128, kernel_size=(3, 3), stride=(1, 1), padding=(1, 1))\n8: ReLU()\n9: MaxPool2d(kernel_size=2, stride=2, padding=0, dilation=1, ceil_mode=False)\nconv_3_1: Conv2d(128, 256, kernel_size=(3, 3), stride=(1, 1), padding=(1, 1))\n11: ReLU()\nconv_3_2: Conv2d(256, 256, kernel_size=(3, 3), stride=(1, 1), padding=(1, 1))\n13: ReLU()\nconv_3_3: Conv2d(256, 256, kernel_size=(3, 3), stride=(1, 1), padding=(1, 1))\n15: ReLU()\nconv_3_4: Conv2d(256, 256, kernel_size=(3, 3), stride=(1, 1), padding=(1, 1))\n17: ReLU()\n18: MaxPool2d(kernel_size=2, stride=2, padding=0, dilation=1, ceil_mode=False)\nconv_4_1: Conv2d(256, 512, kernel_size=(3, 3), stride=(1, 1), padding=(1, 1))\n20: ReLU()\nconv_4_2: Conv2d(512, 512, kernel_size=(3, 3), stride=(1, 1), padding=(1, 1))\n22: ReLU()\nconv_4_3: Conv2d(512, 512, kernel_size=(3, 3), stride=(1, 1), padding=(1, 1))\n24: ReLU()\nconv_4_4: Conv2d(512, 512, kernel_size=(3, 3), stride=(1, 1), padding=(1, 1))\n26: ReLU()\n27: MaxPool2d(kernel_size=2, stride=2, padding=0, dilation=1, ceil_mode=False)\nconv_5_1: Conv2d(512, 512, kernel_size=(3, 3), stride=(1, 1), padding=(1, 1))\n29: ReLU()\nconv_5_2: Conv2d(512, 512, kernel_size=(3, 3), stride=(1, 1), padding=(1, 1))\n31: ReLU()\nconv_5_3: Conv2d(512, 512, kernel_size=(3, 3), stride=(1, 1), padding=(1, 1))\n33: ReLU()\nconv_5_4: Conv2d(512, 512, kernel_size=(3, 3), stride=(1, 1), padding=(1, 1))\n35: ReLU()\n36: MaxPool2d(kernel_size=2, stride=2, padding=0, dilation=1, ceil_mode=False)\n"
    }
   ],
   "source": [
    "model = StyleTransferer(vgg19.features)\n",
    "for name, layer in model.layers.named_children():\n",
    "    print(f\"{name}: {layer}\")"
   ]
  },
  {
   "cell_type": "code",
   "execution_count": null,
   "metadata": {},
   "outputs": [],
   "source": []
  }
 ],
 "metadata": {
  "language_info": {
   "codemirror_mode": {
    "name": "ipython",
    "version": 3
   },
   "file_extension": ".py",
   "mimetype": "text/x-python",
   "name": "python",
   "nbconvert_exporter": "python",
   "pygments_lexer": "ipython3",
   "version": "3.6.10-final"
  },
  "orig_nbformat": 2,
  "kernelspec": {
   "name": "python361064bitstyletransferconda8d27bbea1ec249bb9f16b711175dc8cb",
   "display_name": "Python 3.6.10 64-bit ('style-transfer': conda)"
  }
 },
 "nbformat": 4,
 "nbformat_minor": 2
}